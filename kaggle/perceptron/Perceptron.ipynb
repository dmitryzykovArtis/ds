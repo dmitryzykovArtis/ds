{
 "cells": [
  {
   "cell_type": "code",
   "execution_count": 274,
   "metadata": {},
   "outputs": [],
   "source": [
    "import numpy as np\n",
    "import math\n",
    "from decimal import Decimal"
   ]
  },
  {
   "cell_type": "code",
   "execution_count": 275,
   "metadata": {},
   "outputs": [],
   "source": [
    "class Perceptron():\n",
    "    \n",
    "    W = 0\n",
    "    \n",
    "    def summ_function(self, X, W):\n",
    "        signal = X[np.newaxis, :].dot(W)\n",
    "        return signal[0][0]\n",
    "    \n",
    "    def activation_function(self, signal):\n",
    "#         ex = Decimal(math.exp(signal))\n",
    "#         ex1 = Decimal(ex + Decimal(1.0))\n",
    "#         y = Decimal(ex/ex1)\n",
    "        y = signal\n",
    "        return y\n",
    "    \n",
    "    def gradient(self, Xi, yi):\n",
    "        s_f = self.summ_function(Xi, self.W)\n",
    "        a_f = self.activation_function(s_f)\n",
    "        chain = 2*(a_f - yi)*self.derivative(s_f)\n",
    "        return chain * Xi\n",
    "    \n",
    "    def derivative(self, signal):\n",
    "#         d = self.activation_function(signal)*(1 - activation_function(signal))\n",
    "        d = 1.0\n",
    "        return d\n",
    "    \n",
    "    def loss_func(self, Xi, yi):\n",
    "        s_f = self.summ_function(Xi, self.W)\n",
    "        a_f = self.activation_function(s_f)\n",
    "        err = (a_f - yi) * (a_f - yi)\n",
    "        return err\n",
    "    \n",
    "    def fit(self, X, y, learning_rate = 0.05, e = 0.01, max_epoch = 10):\n",
    "        X = np.concatenate((np.ones(len(X))[np.newaxis, :].T, X), axis = 1)\n",
    "        self.W = np.ones(1 if len(X.shape) == 1 else X.shape[1])[np.newaxis, :].T\n",
    "        for i in range(len(self.W)):\n",
    "            self.W[i] = np.random.random()\n",
    "        err = 1\n",
    "        epoсh = 0\n",
    "        while err > e and epoсh < max_epoch:\n",
    "            err = 0\n",
    "            for i in range(len(X)):\n",
    "                grad = self.gradient(X[i], y[i][0])\n",
    "                self.W = self.W - learning_rate * grad\n",
    "                err += self.loss_func(X[i], y[i][0])\n",
    "            err = (err / len(X))/y[0][0]\n",
    "            print('Epoche:', epoсh, 'Error', err)\n",
    "            epoсh += 1\n",
    "    \n",
    "    def predict(self, X):\n",
    "        X = np.concatenate((np.ones(len(X))[np.newaxis, :].T, X), axis = 1)\n",
    "        y = np.ones(len(X))[np.newaxis, :].T\n",
    "        for i in range(len(X)):\n",
    "            s_f = self.summ_function(X[i], self.W)\n",
    "            y[i] = self.activation_function(s_f)\n",
    "        return y\n"
   ]
  },
  {
   "cell_type": "code",
   "execution_count": 276,
   "metadata": {},
   "outputs": [
    {
     "name": "stdout",
     "output_type": "stream",
     "text": [
      "Epoche: 0 Error 17.383801077060927\n",
      "Epoche: 1 Error 3.8541199428477677\n",
      "Epoche: 2 Error 2.708186785865741\n",
      "Epoche: 3 Error 2.707004127555389\n",
      "Epoche: 4 Error 2.7499419835865617\n",
      "Epoche: 5 Error 2.769261477251447\n",
      "Epoche: 6 Error 2.7763051565822896\n",
      "Epoche: 7 Error 2.778734188624105\n",
      "Epoche: 8 Error 2.7795573831090428\n",
      "Epoche: 9 Error 2.7798347712120868\n"
     ]
    }
   ],
   "source": [
    "X = np.array([[1], [2], [3]])\n",
    "y = np.array([[9.0], [22.0], [40.0]])\n",
    "P = Perceptron()\n",
    "P.fit(X, y)"
   ]
  },
  {
   "cell_type": "code",
   "execution_count": 277,
   "metadata": {},
   "outputs": [
    {
     "data": {
      "text/plain": [
       "array([[17.12577411],\n",
       "       [25.73537339],\n",
       "       [34.34497266]])"
      ]
     },
     "execution_count": 277,
     "metadata": {},
     "output_type": "execute_result"
    }
   ],
   "source": [
    "P.predict(X)"
   ]
  }
 ],
 "metadata": {
  "kernelspec": {
   "display_name": "Python 3",
   "language": "python",
   "name": "python3"
  },
  "language_info": {
   "codemirror_mode": {
    "name": "ipython",
    "version": 3
   },
   "file_extension": ".py",
   "mimetype": "text/x-python",
   "name": "python",
   "nbconvert_exporter": "python",
   "pygments_lexer": "ipython3",
   "version": "3.7.3"
  }
 },
 "nbformat": 4,
 "nbformat_minor": 2
}
